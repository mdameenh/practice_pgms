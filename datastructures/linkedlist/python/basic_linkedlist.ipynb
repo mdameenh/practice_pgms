{
 "cells": [
  {
   "cell_type": "markdown",
   "metadata": {},
   "source": [
    "### Basic linkedlist features in python. \n",
    "Following functions :\n",
    "* Append \n",
    "* Insert\n",
    "* Delete\n",
    "* Delete_Key\n",
    "* Swap\n",
    "* Print\n"
   ]
  },
  {
   "cell_type": "code",
   "execution_count": 1,
   "metadata": {},
   "outputs": [],
   "source": [
    "class Node:\n",
    "    def __init__(self, val=None, nxt=None):\n",
    "        self.data = val\n",
    "        self.next = nxt"
   ]
  },
  {
   "cell_type": "code",
   "execution_count": 2,
   "metadata": {},
   "outputs": [],
   "source": [
    "class LinkedList:\n",
    "    def __init__(self):\n",
    "        self.head = None\n",
    "        self.tail = None\n",
    "        self.size = 0\n",
    "\n",
    "    #insert the node at the end of list\n",
    "    def append(self, data):\n",
    "        if data is None:\n",
    "            print(\"no data provided for new node\")\n",
    "            return 1\n",
    "        \n",
    "        new_node = Node(data)\n",
    "        self.size += 1\n",
    "        \n",
    "        if self.head == None:\n",
    "            self.head = new_node\n",
    "            self.tail = new_node\n",
    "        else:\n",
    "            self.tail.next = new_node\n",
    "            self.tail = new_node\n",
    "            \n",
    "        return 0\n",
    "    \n",
    "    #insert at the given index, or at the beginning by default\n",
    "    def insert(self, data, index=0):\n",
    "        if index > self.size:\n",
    "            print(\"given index does not exist\")\n",
    "            return 1\n",
    "        elif data is None:\n",
    "            print(\"no data provided for new node\")\n",
    "            return 1\n",
    "        curr_node = self.head\n",
    "        prev_node = None\n",
    "        \n",
    "        while index>0:\n",
    "            prev_node = curr_node\n",
    "            curr_node = curr_node.next\n",
    "            index -= 1\n",
    "            \n",
    "        new_node = Node(data, curr_node)\n",
    "        if prev_node is None:\n",
    "            self.head = new_node\n",
    "        else:\n",
    "            prev_node.next = new_node\n",
    "            \n",
    "        if curr_node is None:\n",
    "            self.tail = new_node\n",
    "        self.size += 1\n",
    "        return 0\n",
    "\n",
    "    #delete an item at given index, or head by default\n",
    "    def delete(self, index=0):\n",
    "        if index >= self.size:\n",
    "            print(\"given index does not exist for the given list\")\n",
    "            return 1\n",
    "        curr_node = self.head\n",
    "        prev_node = None\n",
    "        \n",
    "        while index > 0:\n",
    "            prev_node = curr_node\n",
    "            curr_node = curr_node.next\n",
    "            index -= 1\n",
    "        \n",
    "        if prev_node == None:\n",
    "            self.head = curr_node.next\n",
    "        else:\n",
    "            prev_node.next = curr_node.next\n",
    "        \n",
    "        if curr_node.next is None:\n",
    "            self.tail = prev_node\n",
    "        self.size -= 1    \n",
    "        return 0\n",
    "\n",
    "    #delete the first occuring node with the given key\n",
    "    def delete_key(self, key):\n",
    "        if key is None:\n",
    "            print(\"no input key provided to delete\")\n",
    "            return 1\n",
    "        \n",
    "        curr_node = self.head\n",
    "        prev_node = None\n",
    "        \n",
    "        while curr_node:\n",
    "            if curr_node.data == key:\n",
    "                prev_node.next = curr_node.next\n",
    "                self.size -= 1\n",
    "                return curr_node.data\n",
    "            \n",
    "            prev_node = curr_node\n",
    "            curr_node = curr_node.next\n",
    "            \n",
    "        print(\"input key not found in list\")\n",
    "        return -1\n",
    "    \n",
    "    #print all items in the list\n",
    "    def print(self):\n",
    "        curr_node = self.head\n",
    "        while curr_node:\n",
    "            print(curr_node.data)\n",
    "            curr_node = curr_node.next\n",
    "        return 0"
   ]
  },
  {
   "cell_type": "code",
   "execution_count": 3,
   "metadata": {},
   "outputs": [
    {
     "data": {
      "text/plain": [
       "0"
      ]
     },
     "execution_count": 3,
     "metadata": {},
     "output_type": "execute_result"
    }
   ],
   "source": [
    "l = LinkedList()\n",
    "l.append(1)"
   ]
  },
  {
   "cell_type": "code",
   "execution_count": 4,
   "metadata": {},
   "outputs": [
    {
     "name": "stdout",
     "output_type": "stream",
     "text": [
      "1\n"
     ]
    },
    {
     "data": {
      "text/plain": [
       "0"
      ]
     },
     "execution_count": 4,
     "metadata": {},
     "output_type": "execute_result"
    }
   ],
   "source": [
    "l.print()"
   ]
  },
  {
   "cell_type": "code",
   "execution_count": 5,
   "metadata": {},
   "outputs": [
    {
     "name": "stdout",
     "output_type": "stream",
     "text": [
      "1\n",
      "2\n",
      "3\n",
      "4\n"
     ]
    },
    {
     "data": {
      "text/plain": [
       "0"
      ]
     },
     "execution_count": 5,
     "metadata": {},
     "output_type": "execute_result"
    }
   ],
   "source": [
    "l.append(2)\n",
    "l.append(3)\n",
    "l.append(4)\n",
    "l.print()"
   ]
  },
  {
   "cell_type": "code",
   "execution_count": 6,
   "metadata": {},
   "outputs": [
    {
     "data": {
      "text/plain": [
       "0"
      ]
     },
     "execution_count": 6,
     "metadata": {},
     "output_type": "execute_result"
    }
   ],
   "source": [
    "l.insert(\"at-0\")"
   ]
  },
  {
   "cell_type": "code",
   "execution_count": 7,
   "metadata": {},
   "outputs": [
    {
     "name": "stdout",
     "output_type": "stream",
     "text": [
      "at-0\n",
      "1\n",
      "2\n",
      "3\n",
      "4\n"
     ]
    },
    {
     "data": {
      "text/plain": [
       "0"
      ]
     },
     "execution_count": 7,
     "metadata": {},
     "output_type": "execute_result"
    }
   ],
   "source": [
    "l.print()"
   ]
  },
  {
   "cell_type": "code",
   "execution_count": 8,
   "metadata": {},
   "outputs": [
    {
     "name": "stdout",
     "output_type": "stream",
     "text": [
      "at-0\n",
      "at-1\n",
      "1\n",
      "2\n",
      "3\n",
      "4\n"
     ]
    },
    {
     "data": {
      "text/plain": [
       "0"
      ]
     },
     "execution_count": 8,
     "metadata": {},
     "output_type": "execute_result"
    }
   ],
   "source": [
    "l.insert(\"at-1\", 1)\n",
    "l.print()"
   ]
  },
  {
   "cell_type": "code",
   "execution_count": 9,
   "metadata": {},
   "outputs": [
    {
     "name": "stdout",
     "output_type": "stream",
     "text": [
      "given index does not exist\n",
      "at-0\n",
      "at-1\n",
      "1\n",
      "2\n",
      "3\n",
      "4\n"
     ]
    },
    {
     "data": {
      "text/plain": [
       "0"
      ]
     },
     "execution_count": 9,
     "metadata": {},
     "output_type": "execute_result"
    }
   ],
   "source": [
    "l.insert(\"at-1\", 10)\n",
    "l.print()"
   ]
  },
  {
   "cell_type": "code",
   "execution_count": 10,
   "metadata": {},
   "outputs": [
    {
     "name": "stdout",
     "output_type": "stream",
     "text": [
      "at-0\n",
      "at-1\n",
      "1\n",
      "2\n",
      "3\n",
      "4\n",
      "at-end\n"
     ]
    },
    {
     "data": {
      "text/plain": [
       "0"
      ]
     },
     "execution_count": 10,
     "metadata": {},
     "output_type": "execute_result"
    }
   ],
   "source": [
    "l.insert(\"at-end\", 6)\n",
    "l.print()"
   ]
  },
  {
   "cell_type": "code",
   "execution_count": 11,
   "metadata": {},
   "outputs": [
    {
     "data": {
      "text/plain": [
       "'at-0'"
      ]
     },
     "execution_count": 11,
     "metadata": {},
     "output_type": "execute_result"
    }
   ],
   "source": [
    "l.head.data"
   ]
  },
  {
   "cell_type": "code",
   "execution_count": 12,
   "metadata": {},
   "outputs": [
    {
     "data": {
      "text/plain": [
       "'at-end'"
      ]
     },
     "execution_count": 12,
     "metadata": {},
     "output_type": "execute_result"
    }
   ],
   "source": [
    "l.tail.data"
   ]
  },
  {
   "cell_type": "code",
   "execution_count": 13,
   "metadata": {},
   "outputs": [
    {
     "name": "stdout",
     "output_type": "stream",
     "text": [
      "at-1\n",
      "1\n",
      "2\n",
      "3\n",
      "4\n",
      "at-end\n"
     ]
    },
    {
     "data": {
      "text/plain": [
       "0"
      ]
     },
     "execution_count": 13,
     "metadata": {},
     "output_type": "execute_result"
    }
   ],
   "source": [
    "l.delete()\n",
    "l.print()"
   ]
  },
  {
   "cell_type": "code",
   "execution_count": 14,
   "metadata": {},
   "outputs": [
    {
     "name": "stdout",
     "output_type": "stream",
     "text": [
      "at-1\n",
      "1\n",
      "2\n",
      "at-3\n",
      "3\n",
      "4\n",
      "at-end\n"
     ]
    },
    {
     "data": {
      "text/plain": [
       "0"
      ]
     },
     "execution_count": 14,
     "metadata": {},
     "output_type": "execute_result"
    }
   ],
   "source": [
    "l.insert(\"at-3\", 3)\n",
    "l.print()"
   ]
  },
  {
   "cell_type": "code",
   "execution_count": 15,
   "metadata": {},
   "outputs": [
    {
     "name": "stdout",
     "output_type": "stream",
     "text": [
      "1\n",
      "2\n",
      "at-3\n",
      "3\n",
      "4\n",
      "at-end\n"
     ]
    },
    {
     "data": {
      "text/plain": [
       "0"
      ]
     },
     "execution_count": 15,
     "metadata": {},
     "output_type": "execute_result"
    }
   ],
   "source": [
    "l.delete()\n",
    "l.print()"
   ]
  },
  {
   "cell_type": "code",
   "execution_count": 16,
   "metadata": {},
   "outputs": [
    {
     "name": "stdout",
     "output_type": "stream",
     "text": [
      "1\n",
      "2\n",
      "3\n",
      "4\n",
      "at-end\n"
     ]
    },
    {
     "data": {
      "text/plain": [
       "0"
      ]
     },
     "execution_count": 16,
     "metadata": {},
     "output_type": "execute_result"
    }
   ],
   "source": [
    "l.delete(2)\n",
    "l.print()"
   ]
  },
  {
   "cell_type": "code",
   "execution_count": 17,
   "metadata": {},
   "outputs": [
    {
     "name": "stdout",
     "output_type": "stream",
     "text": [
      "1\n",
      "2\n",
      "3\n",
      "4\n"
     ]
    },
    {
     "data": {
      "text/plain": [
       "0"
      ]
     },
     "execution_count": 17,
     "metadata": {},
     "output_type": "execute_result"
    }
   ],
   "source": [
    "l.delete(4)\n",
    "l.print()"
   ]
  },
  {
   "cell_type": "code",
   "execution_count": 18,
   "metadata": {},
   "outputs": [
    {
     "data": {
      "text/plain": [
       "4"
      ]
     },
     "execution_count": 18,
     "metadata": {},
     "output_type": "execute_result"
    }
   ],
   "source": [
    "l.size"
   ]
  },
  {
   "cell_type": "code",
   "execution_count": 19,
   "metadata": {},
   "outputs": [
    {
     "name": "stdout",
     "output_type": "stream",
     "text": [
      "1\n",
      "2\n",
      "4\n"
     ]
    },
    {
     "data": {
      "text/plain": [
       "0"
      ]
     },
     "execution_count": 19,
     "metadata": {},
     "output_type": "execute_result"
    }
   ],
   "source": [
    "l.delete_key(3)\n",
    "l.print()"
   ]
  },
  {
   "cell_type": "code",
   "execution_count": 20,
   "metadata": {},
   "outputs": [
    {
     "data": {
      "text/plain": [
       "3"
      ]
     },
     "execution_count": 20,
     "metadata": {},
     "output_type": "execute_result"
    }
   ],
   "source": [
    "l.size"
   ]
  },
  {
   "cell_type": "code",
   "execution_count": null,
   "metadata": {},
   "outputs": [],
   "source": []
  }
 ],
 "metadata": {
  "kernelspec": {
   "display_name": "Python 3",
   "language": "python",
   "name": "python3"
  },
  "language_info": {
   "codemirror_mode": {
    "name": "ipython",
    "version": 3
   },
   "file_extension": ".py",
   "mimetype": "text/x-python",
   "name": "python",
   "nbconvert_exporter": "python",
   "pygments_lexer": "ipython3",
   "version": "3.6.5"
  }
 },
 "nbformat": 4,
 "nbformat_minor": 2
}
